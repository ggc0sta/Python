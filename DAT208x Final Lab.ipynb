{
 "cells": [
  {
   "cell_type": "markdown",
   "metadata": {},
   "source": [
    "# Final Lab Solutions\n",
    "\n",
    "This document contains solutions for the final lab of Microsoft's course DAT208x - Introduction to Python for Data Science .\n",
    "\n",
    "---\n",
    "\n",
    "## 1. Importing and summarizing data\n",
    "\n",
    "**Read and explore your data**"
   ]
  },
  {
   "cell_type": "code",
   "execution_count": 64,
   "metadata": {},
   "outputs": [
    {
     "name": "stdout",
     "output_type": "stream",
     "text": [
      "(173, 21)\n"
     ]
    }
   ],
   "source": [
    "import pandas as pd\n",
    "import numpy as np\n",
    "\n",
    "recent_grads_url = \"https://s3.amazonaws.com/assets.datacamp.com/production/course_6060/datasets/recent_grads.csv\" #dataset containing information on a university's recent graduates\n",
    "recent_grads = pd.read_csv(recent_grads_url)\n",
    "print(recent_grads.shape)"
   ]
  },
  {
   "cell_type": "code",
   "execution_count": 65,
   "metadata": {},
   "outputs": [
    {
     "name": "stdout",
     "output_type": "stream",
     "text": [
      "rank                      int64\n",
      "major_code                int64\n",
      "major                    object\n",
      "major_category           object\n",
      "total                     int64\n",
      "sample_size               int64\n",
      "men                       int64\n",
      "women                     int64\n",
      "sharewomen              float64\n",
      "employed                  int64\n",
      "full_time                 int64\n",
      "part_time                 int64\n",
      "full_time_year_round      int64\n",
      "unemployed                int64\n",
      "unemployment_rate       float64\n",
      "median                   object\n",
      "p25th                    object\n",
      "p75th                    object\n",
      "college_jobs              int64\n",
      "non_college_jobs          int64\n",
      "low_wage_jobs             int64\n",
      "dtype: object\n"
     ]
    }
   ],
   "source": [
    "# Print .dtypes\n",
    "print(recent_grads.dtypes)\n",
    "\n"
   ]
  },
  {
   "cell_type": "code",
   "execution_count": 66,
   "metadata": {},
   "outputs": [
    {
     "name": "stdout",
     "output_type": "stream",
     "text": [
      "             rank   major_code          total  sample_size            men  \\\n",
      "count  173.000000   173.000000     173.000000   173.000000     173.000000   \n",
      "mean    87.000000  3879.815029   39167.716763   356.080925   16637.358382   \n",
      "std     50.084928  1687.753140   63354.613919   618.361022   28063.394844   \n",
      "min      1.000000  1100.000000     124.000000     2.000000     119.000000   \n",
      "25%     44.000000  2403.000000    4361.000000    39.000000    2110.000000   \n",
      "50%     87.000000  3608.000000   15058.000000   130.000000    5347.000000   \n",
      "75%    130.000000  5503.000000   38844.000000   338.000000   14440.000000   \n",
      "max    173.000000  6403.000000  393735.000000  4212.000000  173809.000000   \n",
      "\n",
      "               women  sharewomen       employed      full_time      part_time  \\\n",
      "count     173.000000  173.000000     173.000000     173.000000     173.000000   \n",
      "mean    22530.358382    0.522550   31192.763006   26029.306358    8832.398844   \n",
      "std     40966.381219    0.230572   50675.002241   42869.655092   14648.179473   \n",
      "min         0.000000    0.000000       0.000000     111.000000       0.000000   \n",
      "25%      1784.000000    0.339671    3608.000000    3154.000000    1030.000000   \n",
      "50%      8284.000000    0.535714   11797.000000   10048.000000    3299.000000   \n",
      "75%     22456.000000    0.702020   31433.000000   25147.000000    9948.000000   \n",
      "max    307087.000000    0.968954  307933.000000  251540.000000  115172.000000   \n",
      "\n",
      "       full_time_year_round    unemployed  unemployment_rate   college_jobs  \\\n",
      "count            173.000000    173.000000         172.000000     173.000000   \n",
      "mean           19694.427746   2416.329480           0.068587   12322.635838   \n",
      "std            33160.941514   4112.803148           0.029967   21299.868863   \n",
      "min              111.000000      0.000000           0.000000       0.000000   \n",
      "25%             2453.000000    304.000000           0.050723    1675.000000   \n",
      "50%             7413.000000    893.000000           0.068272    4390.000000   \n",
      "75%            16891.000000   2393.000000           0.087599   14444.000000   \n",
      "max           199897.000000  28169.000000           0.177226  151643.000000   \n",
      "\n",
      "       non_college_jobs  low_wage_jobs  \n",
      "count        173.000000     173.000000  \n",
      "mean       13284.497110    3859.017341  \n",
      "std        23789.655363    6944.998579  \n",
      "min            0.000000       0.000000  \n",
      "25%         1591.000000     340.000000  \n",
      "50%         4595.000000    1231.000000  \n",
      "75%        11783.000000    3466.000000  \n",
      "max       148395.000000   48207.000000  \n"
     ]
    }
   ],
   "source": [
    "# Output basic summary statistics for all columns that aren't of type object.\n",
    "print(recent_grads.describe(exclude=['object']))"
   ]
  },
  {
   "cell_type": "markdown",
   "metadata": {},
   "source": [
    "**Replacing Missing Values**\n",
    "\n",
    "There are some missing values in the dataset that are coded as a string. You'll update these to a value that Python understands as \"missing.\"\n",
    "\n",
    "The list columns contains the names of the columns you'll be working with in this exercise."
   ]
  },
  {
   "cell_type": "code",
   "execution_count": 67,
   "metadata": {},
   "outputs": [
    {
     "name": "stdout",
     "output_type": "stream",
     "text": [
      "median    object\n",
      "p25th     object\n",
      "p75th     object\n",
      "dtype: object\n",
      "['110000' '75000' '73000' '70000' '65000' 'UN' '62000' '60000' '58000'\n",
      " '57100' '57000' '56000' '54000' '53000' '52000' '51000' '50000' '48000'\n",
      " '47000' '46000' '45000' '44700' '44000' '42000' '41300' '41000' '40100'\n",
      " '40000' '39000' '38400' '38000' '37500' '37400' '37000' '36400' '36200'\n",
      " '36000' '35600' '35000' '34000' '33500' '33400' '33000' '32500' '32400'\n",
      " '32200' '32100' '32000' '31500' '31000' '30500' '30000' '29000' '28000'\n",
      " '27500' '27000' '26000' '25000' '23400' '22000']\n",
      "['110000' '75000' '73000' '70000' '65000' nan '62000' '60000' '58000'\n",
      " '57100' '57000' '56000' '54000' '53000' '52000' '51000' '50000' '48000'\n",
      " '47000' '46000' '45000' '44700' '44000' '42000' '41300' '41000' '40100'\n",
      " '40000' '39000' '38400' '38000' '37500' '37400' '37000' '36400' '36200'\n",
      " '36000' '35600' '35000' '34000' '33500' '33400' '33000' '32500' '32400'\n",
      " '32200' '32100' '32000' '31500' '31000' '30500' '30000' '29000' '28000'\n",
      " '27500' '27000' '26000' '25000' '23400' '22000']\n"
     ]
    }
   ],
   "source": [
    "# Names of the columns we're searching for missing values \n",
    "columns = ['median', 'p25th', 'p75th']\n",
    "\n",
    "# Take a look at the dtypes of the columns listed above\n",
    "print(recent_grads[columns].dtypes)\n",
    "\n",
    "# Find how missing values are represented\n",
    "print(recent_grads['median'].unique())\n",
    "\n",
    "# Replace missing values with NaN\n",
    "for column in columns:\n",
    "    recent_grads.loc[recent_grads[column] == 'UN', column] = np.nan\n",
    "\n",
    "# \"UN\" replaced for nan\n",
    "print(recent_grads['median'].unique())"
   ]
  },
  {
   "cell_type": "markdown",
   "metadata": {},
   "source": [
    "**Select a column**"
   ]
  },
  {
   "cell_type": "code",
   "execution_count": 68,
   "metadata": {},
   "outputs": [
    {
     "name": "stdout",
     "output_type": "stream",
     "text": [
      "0    0.120564\n",
      "1    0.101852\n",
      "2    0.153037\n",
      "3    0.107313\n",
      "4    0.341631\n",
      "Name: sharewomen, dtype: float64\n"
     ]
    }
   ],
   "source": [
    "# Select sharewomen column\n",
    "sw_col = recent_grads[\"sharewomen\"]\n",
    "\n",
    "# Output first five rows\n",
    "print(sw_col.head(5))"
   ]
  },
  {
   "cell_type": "markdown",
   "metadata": {},
   "source": [
    "**Column Maximum Value**"
   ]
  },
  {
   "cell_type": "code",
   "execution_count": 69,
   "metadata": {},
   "outputs": [
    {
     "name": "stdout",
     "output_type": "stream",
     "text": [
      "0.968953683\n"
     ]
    }
   ],
   "source": [
    "# Use max to output maximum values\n",
    "max_sw = max(sw_col)\n",
    "\n",
    "# Print column max\n",
    "print(max_sw)"
   ]
  },
  {
   "cell_type": "code",
   "execution_count": 70,
   "metadata": {},
   "outputs": [
    {
     "name": "stdout",
     "output_type": "stream",
     "text": [
      "     rank  major_code                        major             major_category  \\\n",
      "162   163        5502  ANTHROPOLOGY AND ARCHEOLOGY  Humanities & Liberal Arts   \n",
      "\n",
      "     total  sample_size   men  women  sharewomen  employed  ...  part_time  \\\n",
      "162  38844          247  1167  36422    0.968954     29633  ...      14515   \n",
      "\n",
      "     full_time_year_round  unemployed  unemployment_rate  median  p25th  \\\n",
      "162                 13232        3395           0.102792   28000  20000   \n",
      "\n",
      "     p75th college_jobs  non_college_jobs  low_wage_jobs  \n",
      "162  38000         9805             16693           6866  \n",
      "\n",
      "[1 rows x 21 columns]\n"
     ]
    }
   ],
   "source": [
    "# Output the row containing the maximum percentage of women\n",
    "print(recent_grads[sw_col == max_sw])"
   ]
  },
  {
   "cell_type": "markdown",
   "metadata": {},
   "source": [
    "**Converting a DataFrame to Numpy Array**"
   ]
  },
  {
   "cell_type": "code",
   "execution_count": 71,
   "metadata": {},
   "outputs": [
    {
     "name": "stdout",
     "output_type": "stream",
     "text": [
      "<class 'numpy.ndarray'>\n"
     ]
    }
   ],
   "source": [
    "# Convert to numpy array\n",
    "recent_grads_np = np.array(recent_grads[[\"unemployed\", \"low_wage_jobs\"]])\n",
    "\n",
    "# Print the type of recent_grads_np\n",
    "print(type(recent_grads_np))"
   ]
  },
  {
   "cell_type": "markdown",
   "metadata": {},
   "source": [
    "**Correlation Coefficient**"
   ]
  },
  {
   "cell_type": "code",
   "execution_count": 72,
   "metadata": {},
   "outputs": [
    {
     "name": "stdout",
     "output_type": "stream",
     "text": [
      "[[1.         0.95538815]\n",
      " [0.95538815 1.        ]]\n"
     ]
    }
   ],
   "source": [
    "# Calculate correlation matrix\n",
    "print(np.corrcoef(recent_grads_np[:,0], recent_grads_np[:,1]))"
   ]
  },
  {
   "cell_type": "markdown",
   "metadata": {},
   "source": [
    "## 2. Manipulating Data"
   ]
  },
  {
   "cell_type": "markdown",
   "metadata": {},
   "source": [
    "**Creating Columns I**"
   ]
  },
  {
   "cell_type": "code",
   "execution_count": 73,
   "metadata": {},
   "outputs": [
    {
     "name": "stdout",
     "output_type": "stream",
     "text": [
      "   sharemen    men  total\n",
      "0  0.879436   2057   2339\n",
      "1  0.898148    679    756\n",
      "2  0.846963    725    856\n",
      "3  0.892687   1123   1258\n",
      "4  0.658369  21239  32260\n"
     ]
    }
   ],
   "source": [
    "# Add sharemen column\n",
    "recent_grads['sharemen'] = recent_grads[\"men\"] / recent_grads[\"total\"]\n",
    "print(recent_grads[['sharemen', 'men', 'total']].head(5))"
   ]
  },
  {
   "cell_type": "markdown",
   "metadata": {},
   "source": [
    "**Select Row with the Highest Value**"
   ]
  },
  {
   "cell_type": "code",
   "execution_count": 74,
   "metadata": {},
   "outputs": [
    {
     "name": "stdout",
     "output_type": "stream",
     "text": [
      "     rank  major_code                                       major  \\\n",
      "120   121        2301  EDUCATIONAL ADMINISTRATION AND SUPERVISION   \n",
      "\n",
      "    major_category  total  sample_size    men  women  sharewomen  employed  \\\n",
      "120      Education    804            5  78253  63698    0.448732       703   \n",
      "\n",
      "     ...  full_time_year_round  unemployed  unemployment_rate  median  p25th  \\\n",
      "120  ...                   504           0                0.0   34000  29000   \n",
      "\n",
      "     p75th college_jobs non_college_jobs  low_wage_jobs   sharemen  \n",
      "120  35000          346              206            111  97.329602  \n",
      "\n",
      "[1 rows x 22 columns]\n"
     ]
    }
   ],
   "source": [
    "# Find the maximum percentage value of men\n",
    "max_men = max(recent_grads[\"sharemen\"])\n",
    " \n",
    "# Output the row with the highest percentage of men\n",
    "print(recent_grads[recent_grads[\"sharemen\"] == max_men])"
   ]
  },
  {
   "cell_type": "markdown",
   "metadata": {},
   "source": [
    "**Creating Columns II**"
   ]
  },
  {
   "cell_type": "code",
   "execution_count": 75,
   "metadata": {},
   "outputs": [
    {
     "data": {
      "text/plain": [
       "0   -0.758871\n",
       "1   -0.796296\n",
       "2   -0.693925\n",
       "3   -0.785374\n",
       "4   -0.316739\n",
       "Name: gender_diff, dtype: float64"
      ]
     },
     "execution_count": 75,
     "metadata": {},
     "output_type": "execute_result"
    }
   ],
   "source": [
    "# Add gender_diff column\n",
    "recent_grads['gender_diff'] = recent_grads[\"sharewomen\"] - recent_grads[\"sharemen\"]\n",
    "recent_grads[\"gender_diff\"].head(5)"
   ]
  },
  {
   "cell_type": "markdown",
   "metadata": {},
   "source": [
    "**Updating Columns**"
   ]
  },
  {
   "cell_type": "code",
   "execution_count": 53,
   "metadata": {},
   "outputs": [
    {
     "name": "stdout",
     "output_type": "stream",
     "text": [
      "    rank  major_code                                   major  \\\n",
      "8      9        2414                  MECHANICAL ENGINEERING   \n",
      "74    75        5003                               CHEMISTRY   \n",
      "37    38        6205                      BUSINESS ECONOMICS   \n",
      "65    66        2599  MISCELLANEOUS ENGINEERING TECHNOLOGIES   \n",
      "78    79        5506        POLITICAL SCIENCE AND GOVERNMENT   \n",
      "\n",
      "       major_category   total  sample_size    men  women  sharewomen  \\\n",
      "8         Engineering   91227         1029  12953   2105    0.139793   \n",
      "74  Physical Sciences   66530          353  32923  33607    0.505141   \n",
      "37           Business   13302          199   3477   1154    0.249190   \n",
      "65        Engineering    8804          125    124      0    0.000000   \n",
      "78     Social Science  182621         1387  93880  88741    0.485930   \n",
      "\n",
      "    employed  ...  unemployed  unemployment_rate  median  p25th  p75th  \\\n",
      "8      76442  ...        4650           0.057342   60000  48000  70000   \n",
      "74     48535  ...        2769           0.053972   39000  30000  49900   \n",
      "37     10914  ...        1165           0.096448   46000  33000  58000   \n",
      "65      7502  ...         416           0.052539   40000  30400  56000   \n",
      "78    133454  ...       15022           0.101175   38000  28000  50000   \n",
      "\n",
      "   college_jobs non_college_jobs low_wage_jobs  sharemen  gender_diff  \n",
      "8         52844            16384          3253  0.141986     0.002194  \n",
      "74        30382            14718          4288  0.494859     0.010281  \n",
      "37         1578             4612          1284  0.261389     0.012199  \n",
      "65         2446             3896           386  0.014085     0.014085  \n",
      "78        36854            66947         19803  0.514070     0.028140  \n",
      "\n",
      "[5 rows x 23 columns]\n"
     ]
    }
   ],
   "source": [
    "# Make all gender difference values positive\n",
    "recent_grads['gender_diff'] = abs(recent_grads['gender_diff'])\n",
    "\n",
    "# Find the 5 rows with lowest gender rate difference\n",
    "print(recent_grads.nsmallest(5, 'gender_diff'))"
   ]
  },
  {
   "cell_type": "markdown",
   "metadata": {},
   "source": [
    "**Filtering Rows**"
   ]
  },
  {
   "cell_type": "code",
   "execution_count": 80,
   "metadata": {},
   "outputs": [
    {
     "data": {
      "text/html": [
       "<div>\n",
       "<style scoped>\n",
       "    .dataframe tbody tr th:only-of-type {\n",
       "        vertical-align: middle;\n",
       "    }\n",
       "\n",
       "    .dataframe tbody tr th {\n",
       "        vertical-align: top;\n",
       "    }\n",
       "\n",
       "    .dataframe thead th {\n",
       "        text-align: right;\n",
       "    }\n",
       "</style>\n",
       "<table border=\"1\" class=\"dataframe\">\n",
       "  <thead>\n",
       "    <tr style=\"text-align: right;\">\n",
       "      <th></th>\n",
       "      <th>rank</th>\n",
       "      <th>major_code</th>\n",
       "      <th>major</th>\n",
       "      <th>major_category</th>\n",
       "      <th>total</th>\n",
       "      <th>sample_size</th>\n",
       "      <th>men</th>\n",
       "      <th>women</th>\n",
       "      <th>sharewomen</th>\n",
       "      <th>employed</th>\n",
       "      <th>...</th>\n",
       "      <th>unemployed</th>\n",
       "      <th>unemployment_rate</th>\n",
       "      <th>median</th>\n",
       "      <th>p25th</th>\n",
       "      <th>p75th</th>\n",
       "      <th>college_jobs</th>\n",
       "      <th>non_college_jobs</th>\n",
       "      <th>low_wage_jobs</th>\n",
       "      <th>sharemen</th>\n",
       "      <th>gender_diff</th>\n",
       "    </tr>\n",
       "  </thead>\n",
       "  <tbody>\n",
       "    <tr>\n",
       "      <th>9</th>\n",
       "      <td>10</td>\n",
       "      <td>2408</td>\n",
       "      <td>ELECTRICAL ENGINEERING</td>\n",
       "      <td>Engineering</td>\n",
       "      <td>81527</td>\n",
       "      <td>631</td>\n",
       "      <td>8407</td>\n",
       "      <td>6548</td>\n",
       "      <td>0.437847</td>\n",
       "      <td>61928</td>\n",
       "      <td>...</td>\n",
       "      <td>3895</td>\n",
       "      <td>0.059174</td>\n",
       "      <td>60000</td>\n",
       "      <td>45000</td>\n",
       "      <td>72000</td>\n",
       "      <td>45829</td>\n",
       "      <td>10874</td>\n",
       "      <td>3170</td>\n",
       "      <td>0.103119</td>\n",
       "      <td>0.334728</td>\n",
       "    </tr>\n",
       "    <tr>\n",
       "      <th>57</th>\n",
       "      <td>58</td>\n",
       "      <td>6200</td>\n",
       "      <td>GENERAL BUSINESS</td>\n",
       "      <td>Business</td>\n",
       "      <td>234590</td>\n",
       "      <td>2380</td>\n",
       "      <td>6053</td>\n",
       "      <td>4346</td>\n",
       "      <td>0.417925</td>\n",
       "      <td>190183</td>\n",
       "      <td>...</td>\n",
       "      <td>14946</td>\n",
       "      <td>0.072861</td>\n",
       "      <td>40000</td>\n",
       "      <td>30000</td>\n",
       "      <td>55000</td>\n",
       "      <td>29334</td>\n",
       "      <td>100831</td>\n",
       "      <td>27320</td>\n",
       "      <td>0.025802</td>\n",
       "      <td>0.392122</td>\n",
       "    </tr>\n",
       "    <tr>\n",
       "      <th>77</th>\n",
       "      <td>78</td>\n",
       "      <td>6206</td>\n",
       "      <td>MARKETING AND MARKETING RESEARCH</td>\n",
       "      <td>Business</td>\n",
       "      <td>205211</td>\n",
       "      <td>2684</td>\n",
       "      <td>11404</td>\n",
       "      <td>7076</td>\n",
       "      <td>0.382900</td>\n",
       "      <td>178862</td>\n",
       "      <td>...</td>\n",
       "      <td>11663</td>\n",
       "      <td>0.061215</td>\n",
       "      <td>38000</td>\n",
       "      <td>30000</td>\n",
       "      <td>50000</td>\n",
       "      <td>25320</td>\n",
       "      <td>93889</td>\n",
       "      <td>27968</td>\n",
       "      <td>0.055572</td>\n",
       "      <td>0.327328</td>\n",
       "    </tr>\n",
       "    <tr>\n",
       "      <th>93</th>\n",
       "      <td>94</td>\n",
       "      <td>1901</td>\n",
       "      <td>COMMUNICATIONS</td>\n",
       "      <td>Communications &amp; Journalism</td>\n",
       "      <td>213996</td>\n",
       "      <td>2394</td>\n",
       "      <td>476</td>\n",
       "      <td>209</td>\n",
       "      <td>0.305109</td>\n",
       "      <td>179633</td>\n",
       "      <td>...</td>\n",
       "      <td>14602</td>\n",
       "      <td>0.075177</td>\n",
       "      <td>35000</td>\n",
       "      <td>27000</td>\n",
       "      <td>45000</td>\n",
       "      <td>40763</td>\n",
       "      <td>97964</td>\n",
       "      <td>27440</td>\n",
       "      <td>0.002224</td>\n",
       "      <td>0.302885</td>\n",
       "    </tr>\n",
       "    <tr>\n",
       "      <th>137</th>\n",
       "      <td>138</td>\n",
       "      <td>3301</td>\n",
       "      <td>ENGLISH LANGUAGE AND LITERATURE</td>\n",
       "      <td>Humanities &amp; Liberal Arts</td>\n",
       "      <td>194673</td>\n",
       "      <td>1436</td>\n",
       "      <td>4897</td>\n",
       "      <td>2519</td>\n",
       "      <td>0.339671</td>\n",
       "      <td>149180</td>\n",
       "      <td>...</td>\n",
       "      <td>14345</td>\n",
       "      <td>0.087724</td>\n",
       "      <td>32000</td>\n",
       "      <td>23000</td>\n",
       "      <td>41000</td>\n",
       "      <td>57690</td>\n",
       "      <td>71827</td>\n",
       "      <td>26503</td>\n",
       "      <td>0.025155</td>\n",
       "      <td>0.314516</td>\n",
       "    </tr>\n",
       "  </tbody>\n",
       "</table>\n",
       "<p>5 rows × 23 columns</p>\n",
       "</div>"
      ],
      "text/plain": [
       "     rank  major_code                             major  \\\n",
       "9      10        2408            ELECTRICAL ENGINEERING   \n",
       "57     58        6200                  GENERAL BUSINESS   \n",
       "77     78        6206  MARKETING AND MARKETING RESEARCH   \n",
       "93     94        1901                    COMMUNICATIONS   \n",
       "137   138        3301   ENGLISH LANGUAGE AND LITERATURE   \n",
       "\n",
       "                  major_category   total  sample_size    men  women  \\\n",
       "9                    Engineering   81527          631   8407   6548   \n",
       "57                      Business  234590         2380   6053   4346   \n",
       "77                      Business  205211         2684  11404   7076   \n",
       "93   Communications & Journalism  213996         2394    476    209   \n",
       "137    Humanities & Liberal Arts  194673         1436   4897   2519   \n",
       "\n",
       "     sharewomen  employed  ...  unemployed  unemployment_rate  median  p25th  \\\n",
       "9      0.437847     61928  ...        3895           0.059174   60000  45000   \n",
       "57     0.417925    190183  ...       14946           0.072861   40000  30000   \n",
       "77     0.382900    178862  ...       11663           0.061215   38000  30000   \n",
       "93     0.305109    179633  ...       14602           0.075177   35000  27000   \n",
       "137    0.339671    149180  ...       14345           0.087724   32000  23000   \n",
       "\n",
       "     p75th college_jobs non_college_jobs low_wage_jobs  sharemen  gender_diff  \n",
       "9    72000        45829            10874          3170  0.103119     0.334728  \n",
       "57   55000        29334           100831         27320  0.025802     0.392122  \n",
       "77   50000        25320            93889         27968  0.055572     0.327328  \n",
       "93   45000        40763            97964         27440  0.002224     0.302885  \n",
       "137  41000        57690            71827         26503  0.025155     0.314516  \n",
       "\n",
       "[5 rows x 23 columns]"
      ]
     },
     "execution_count": 80,
     "metadata": {},
     "output_type": "execute_result"
    }
   ],
   "source": [
    "# Rows where gender rate difference is greater than .30 \n",
    "diff_30 = recent_grads['gender_diff'] > .30\n",
    "\n",
    "# Rows with more men\n",
    "more_men = recent_grads['men'] > recent_grads['women']\n",
    "\n",
    "# Combine more_men and diff_30\n",
    "more_men_and_diff_30 = np.logical_and(diff_30, more_men)\n",
    "\n",
    "# Find rows with more men and and gender rate difference greater than .30\n",
    "fewer_women = recent_grads[more_men_and_diff_30]\n",
    "fewer_women"
   ]
  },
  {
   "cell_type": "markdown",
   "metadata": {},
   "source": [
    "**Grouping with counts**\n",
    "\n",
    "Calls to `.groupby()` have the following three components: the column you want to group, the column you want to aggregate, and the statistic you want to aggregate by. For example, in our dataset, if we wanted to see the percentage of women `('sharewomen')` per `'major_category'`, we could leverage a `.groupby` like:"
   ]
  },
  {
   "cell_type": "code",
   "execution_count": 55,
   "metadata": {},
   "outputs": [
    {
     "data": {
      "text/plain": [
       "major_category\n",
       "Agriculture & Natural Resources        0.617938\n",
       "Arts                                   0.561851\n",
       "Biology & Life Science                 0.584518\n",
       "Business                               0.405063\n",
       "Communications & Journalism            0.643835\n",
       "Computers & Mathematics                0.512752\n",
       "Education                              0.674986\n",
       "Engineering                            0.257158\n",
       "Health                                 0.616857\n",
       "Humanities & Liberal Arts              0.676193\n",
       "Industrial Arts & Consumer Services    0.449351\n",
       "Interdisciplinary                      0.495397\n",
       "Law & Public Policy                    0.335990\n",
       "Physical Sciences                      0.508749\n",
       "Psychology & Social Work               0.777763\n",
       "Social Science                         0.539067\n",
       "Name: sharewomen, dtype: float64"
      ]
     },
     "execution_count": 55,
     "metadata": {},
     "output_type": "execute_result"
    }
   ],
   "source": [
    "recent_grads.groupby('major_category')['sharewomen'].mean()"
   ]
  },
  {
   "cell_type": "code",
   "execution_count": 56,
   "metadata": {},
   "outputs": [
    {
     "name": "stdout",
     "output_type": "stream",
     "text": [
      "major_category\n",
      "Agriculture & Natural Resources        10\n",
      "Arts                                    8\n",
      "Biology & Life Science                 14\n",
      "Business                               13\n",
      "Communications & Journalism             4\n",
      "Computers & Mathematics                11\n",
      "Education                              16\n",
      "Engineering                            29\n",
      "Health                                 12\n",
      "Humanities & Liberal Arts              15\n",
      "Industrial Arts & Consumer Services     7\n",
      "Interdisciplinary                       1\n",
      "Law & Public Policy                     5\n",
      "Physical Sciences                      10\n",
      "Psychology & Social Work                9\n",
      "Social Science                          9\n",
      "Name: major_category, dtype: int64\n"
     ]
    }
   ],
   "source": [
    "# Group by major category and count\n",
    "print(recent_grads.groupby(['major_category']).major_category.count())"
   ]
  },
  {
   "cell_type": "markdown",
   "metadata": {},
   "source": [
    "**Grouping with counts II**\n",
    "\n",
    "Create a DataFrame that groups the departments by major category and shows the number of departments that are skewed in women."
   ]
  },
  {
   "cell_type": "code",
   "execution_count": 57,
   "metadata": {},
   "outputs": [
    {
     "name": "stdout",
     "output_type": "stream",
     "text": [
      "major_category\n",
      "Agriculture & Natural Resources         1\n",
      "Biology & Life Science                  1\n",
      "Business                                3\n",
      "Communications & Journalism             1\n",
      "Computers & Mathematics                 4\n",
      "Education                               2\n",
      "Engineering                            21\n",
      "Health                                  1\n",
      "Humanities & Liberal Arts               1\n",
      "Industrial Arts & Consumer Services     3\n",
      "Interdisciplinary                       1\n",
      "Law & Public Policy                     1\n",
      "Physical Sciences                       5\n",
      "Psychology & Social Work                1\n",
      "Social Science                          2\n",
      "Name: major_category, dtype: int64\n"
     ]
    }
   ],
   "source": [
    "# Group departments that have less women by category and count\n",
    "print(fewer_women.groupby('major_category')['major_category'].count())"
   ]
  },
  {
   "cell_type": "markdown",
   "metadata": {},
   "source": [
    "**Grouping One Column with means**"
   ]
  },
  {
   "cell_type": "code",
   "execution_count": 58,
   "metadata": {},
   "outputs": [
    {
     "name": "stdout",
     "output_type": "stream",
     "text": [
      "major_category\n",
      "Agriculture & Natural Resources        4.511111\n",
      "Arts                                   0.308747\n",
      "Biology & Life Science                 4.785277\n",
      "Business                               0.318304\n",
      "Communications & Journalism            0.483868\n",
      "Computers & Mathematics                0.700728\n",
      "Education                              6.869082\n",
      "Engineering                            1.296387\n",
      "Health                                 0.450257\n",
      "Humanities & Liberal Arts              0.540437\n",
      "Industrial Arts & Consumer Services    2.474325\n",
      "Interdisciplinary                      0.320397\n",
      "Law & Public Policy                    0.281993\n",
      "Physical Sciences                      1.556373\n",
      "Psychology & Social Work               5.719239\n",
      "Social Science                         1.695479\n",
      "Name: gender_diff, dtype: float64\n"
     ]
    }
   ],
   "source": [
    "# Report average gender difference by major category\n",
    "print(recent_grads.groupby('major_category')['gender_diff'].mean())"
   ]
  },
  {
   "cell_type": "markdown",
   "metadata": {},
   "source": [
    "**Grouping Two Columns with means**"
   ]
  },
  {
   "cell_type": "code",
   "execution_count": 84,
   "metadata": {},
   "outputs": [],
   "source": [
    "# Find average number of low wage jobs and unemployment rate of each major category\n",
    "dept_stats = recent_grads.groupby(['major_category'])['low_wage_jobs', 'unemployment_rate'].mean()"
   ]
  },
  {
   "cell_type": "markdown",
   "metadata": {},
   "source": [
    "---\n",
    "\n",
    "# 3. Visualizing Data"
   ]
  },
  {
   "cell_type": "markdown",
   "metadata": {},
   "source": [
    "**Plotting Scatterplots**"
   ]
  },
  {
   "cell_type": "code",
   "execution_count": null,
   "metadata": {},
   "outputs": [],
   "source": [
    "# Import matplotlib\n",
    "import matplotlib.pyplot as plt\n",
    "\n",
    "# Create scatter plot\n",
    "plt.scatter(unemployment_rate, low_wage_jobs)\n",
    "\n",
    "# Label x axis\n",
    "plt.xlabel('Unemployment rate')\n",
    "\n",
    "# Label y axis\n",
    "plt.ylabel('Low pay jobs')\n",
    "\n",
    "# Display the graph \n",
    "plt.show()"
   ]
  },
  {
   "cell_type": "markdown",
   "metadata": {},
   "source": [
    "**Modifying Plot Colors**"
   ]
  },
  {
   "cell_type": "code",
   "execution_count": null,
   "metadata": {},
   "outputs": [],
   "source": [
    "# Plot the red and triangle shaped scatter plot  \n",
    "plt.scatter(unemployment_rate, low_wage_jobs, \n",
    "color = 'r', \n",
    "marker = \"^\")\n",
    "\n",
    "# Display the visualization\n",
    "plt.show()"
   ]
  },
  {
   "cell_type": "markdown",
   "metadata": {},
   "source": [
    "**Plotting Histograms**"
   ]
  },
  {
   "cell_type": "code",
   "execution_count": null,
   "metadata": {},
   "outputs": [],
   "source": [
    "# Plot a histogram of sharewomen\n",
    "plt.hist(sharewomen)\n",
    "\n",
    "# Show the plot\n",
    "plt.show()"
   ]
  },
  {
   "cell_type": "markdown",
   "metadata": {},
   "source": [
    "**Plotting with Pandas**\n",
    "\n",
    "In Python, there are several different ways to create visualizations. In fact, pandas has its own visualization capabilities, all of which are built on top of matplotlib! For example, you could have created the histogram from the previous exercise using `recent_grads.sharewomen(kind=\"hist\")` instead of `plt.hist(recent_grads.sharewomen)`.\n",
    "\n",
    "All pandas plots are created using the `.plot()` method on a DataFrame. Inside `.plot()`, you can specify which plot you want to create using the kind parameter. For example, `kind= 'hist'` would create a histogram, `kind='scatter'` would create a scatter plot, and so on."
   ]
  },
  {
   "cell_type": "code",
   "execution_count": null,
   "metadata": {},
   "outputs": [],
   "source": [
    "# Import matplotlib and pandas\n",
    "import matplotlib.pyplot as plt\n",
    "import pandas as pd\n",
    "\n",
    "# Create scatter plot\n",
    "dept_stats.plot(kind='scatter', x='unemployment_rate', y='low_wage_jobs')\n",
    "plt.show()\n",
    "\n",
    "# Create histogram\n",
    "recent_grads.sharewomen.plot(kind='hist')\n",
    "plt.show()"
   ]
  },
  {
   "cell_type": "markdown",
   "metadata": {},
   "source": [
    "**Plotting One Bar Graphs**\n",
    "\n",
    "- First, create a DataFrame to plot. Use `recent_grads` to make a DataFrame that reports each major category and the number of college graduates with a job that doesn't require a degree. Assign this to a variable named `df`.\n",
    "\n",
    "- Plot this data as a bar chart using the `.plot()` method. Here, `kind` should be `\"bar\"`."
   ]
  },
  {
   "cell_type": "code",
   "execution_count": null,
   "metadata": {},
   "outputs": [],
   "source": [
    "\n",
    "# DataFrame of non-college job sums\n",
    "df = recent_grads.groupby(['major_category']).non_college_jobs.sum()\n",
    "\n",
    "# Plot bar chart\n",
    "df.plot(kind=\"bar\")\n",
    "\n",
    "# Show graph\n",
    "plt.show()"
   ]
  },
  {
   "cell_type": "markdown",
   "metadata": {},
   "source": [
    "**Plotting Two Bar Graphs**\n",
    "\n",
    "Use pandas to create a DataFrame that reports the number of graduates working at jobs that do require college degrees `('college_jobs')`, and do not require college degrees `('non_college_jobs')`. Assign this to a variable named `df1`."
   ]
  },
  {
   "cell_type": "code",
   "execution_count": null,
   "metadata": {},
   "outputs": [],
   "source": [
    "# DataFrame of college and non-college job sums\n",
    "df1 = recent_grads.groupby('major_category')['college_jobs','non_college_jobs'].sum()\n",
    "\n",
    "# Plot bar chart\n",
    "df1.plot(kind=\"bar\", x=\"college_jobs\",y=\"non_college_jobs\")\n",
    "\n",
    "# Show graph\n",
    "plt.show()"
   ]
  },
  {
   "cell_type": "markdown",
   "metadata": {},
   "source": [
    "**Dropping Missing Values**"
   ]
  },
  {
   "cell_type": "code",
   "execution_count": null,
   "metadata": {},
   "outputs": [],
   "source": [
    "# Print the size of the DataFrame\n",
    "print(recent_grads.size)\n",
    "\n",
    "# Drop all rows with a missing value\n",
    "recent_grads.dropna(axis = 0, inplace=True)\n",
    "\n",
    "# Print the size of the DataFrame\n",
    "print(recent_grads.size)"
   ]
  },
  {
   "cell_type": "markdown",
   "metadata": {
    "tags": [
     "panda",
     "convert",
     "to",
     "numeric"
    ]
   },
   "source": [
    "**Plotting Quantiles of Salary I**"
   ]
  },
  {
   "cell_type": "code",
   "execution_count": null,
   "metadata": {},
   "outputs": [],
   "source": [
    "# Convert to numeric and divide by 1000\n",
    "recent_grads['median'] = pd.to_numeric(recent_grads['median'])/1000\n",
    "recent_grads['p25th'] = pd.to_numeric(recent_grads['p25th'])/1000\n",
    "recent_grads['p75th'] = pd.to_numeric(recent_grads['p75th'])/1000\n",
    "\n",
    "# Select averages by major category\n",
    "columns = ['median', 'p25th', 'p75th']\n",
    "sal_quantiles = recent_grads.groupby('major_category')[columns].mean()"
   ]
  },
  {
   "cell_type": "markdown",
   "metadata": {},
   "source": [
    "**Plotting Quantiles of Salary II**"
   ]
  },
  {
   "cell_type": "code",
   "execution_count": null,
   "metadata": {},
   "outputs": [],
   "source": [
    "# Plot the data\n",
    "sal_quantiles.plot()\n",
    "\n",
    "# Set xticks\n",
    "plt.xticks(\n",
    "    np.arange(len(sal_quantiles.index)),\n",
    "    sal_quantiles.index, \n",
    "    rotation='vertical')\n",
    "\n",
    "# Show the plot\n",
    "plt.show()\n",
    "\n",
    "# Plot with subplots\n",
    "sal_quantiles.plot(subplots=True)\n",
    "\n",
    "plt.show()"
   ]
  }
 ],
 "metadata": {
  "celltoolbar": "Tags",
  "kernelspec": {
   "display_name": "Python 3",
   "language": "python",
   "name": "python3"
  },
  "language_info": {
   "codemirror_mode": {
    "name": "ipython",
    "version": 3
   },
   "file_extension": ".py",
   "mimetype": "text/x-python",
   "name": "python",
   "nbconvert_exporter": "python",
   "pygments_lexer": "ipython3",
   "version": "3.7.3"
  }
 },
 "nbformat": 4,
 "nbformat_minor": 2
}
